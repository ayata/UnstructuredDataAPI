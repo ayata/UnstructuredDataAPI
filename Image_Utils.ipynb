{
 "cells": [
  {
   "cell_type": "code",
   "execution_count": null,
   "id": "327ed45f",
   "metadata": {},
   "outputs": [],
   "source": [
    "import sys\n",
    "import numpy as np"
   ]
  },
  {
   "cell_type": "code",
   "execution_count": null,
   "id": "096ad79f",
   "metadata": {},
   "outputs": [],
   "source": [
    "sys.path.append(PATH_TO_SRC_FOLDER)"
   ]
  },
  {
   "cell_type": "code",
   "execution_count": null,
   "id": "a37b2a3a",
   "metadata": {},
   "outputs": [],
   "source": [
    "import unstructured_data_api\n",
    "import matplotlib.pyplot as plt\n",
    "\n",
    "from unstructured_data_api.image.loadFunc import loadPDF\n",
    "from unstructured_data_api.image.basic_manipulation import *\n",
    "from unstructured_data_api.image.thresholding import *\n",
    "from unstructured_data_api.image.noise_reduction import *\n",
    "from unstructured_data_api.image.transformations import *"
   ]
  },
  {
   "cell_type": "code",
   "execution_count": null,
   "id": "5dc74fde",
   "metadata": {},
   "outputs": [],
   "source": [
    "FILE_NAME = \"xxx.pdf\"\n",
    "\n",
    "PATH_TO_FILE = \"\"\n",
    "\n",
    "DEST_FOLDER = \"\"\n",
    "\n",
    "images = loadPDF(PATH_TO_FILE, DEST_FOLDER)"
   ]
  },
  {
   "cell_type": "code",
   "execution_count": null,
   "id": "15b1eeac",
   "metadata": {},
   "outputs": [],
   "source": [
    "plt.imshow(images[0])\n",
    "plt.show()"
   ]
  },
  {
   "cell_type": "code",
   "execution_count": null,
   "id": "4c4a7c87",
   "metadata": {},
   "outputs": [],
   "source": [
    "crop.get_dimensions(images[0])"
   ]
  },
  {
   "cell_type": "code",
   "execution_count": null,
   "id": "d4ed6e7e",
   "metadata": {},
   "outputs": [],
   "source": [
    "cropped_image = crop.square_resize(images[0])\n",
    "\n",
    "plt.imshow(cropped_image)\n",
    "plt.show()"
   ]
  },
  {
   "cell_type": "code",
   "execution_count": null,
   "id": "2664630e",
   "metadata": {},
   "outputs": [],
   "source": [
    "plt.imshow(thresh_global(crop.square_resize(images[0]))[1])"
   ]
  },
  {
   "cell_type": "code",
   "execution_count": null,
   "id": "2ad83598",
   "metadata": {},
   "outputs": [],
   "source": [
    "plt.imshow(thresh_otsu(gaussian_blur(erode(crop.square_resize(images[0]))))[1])"
   ]
  },
  {
   "cell_type": "code",
   "execution_count": null,
   "id": "7ff91c87",
   "metadata": {},
   "outputs": [],
   "source": [
    "plt.imshow(dilate(erode(thresh_otsu(gaussian_blur(crop.square_resize(images[0])))[1])))"
   ]
  },
  {
   "cell_type": "code",
   "execution_count": null,
   "id": "16c68622",
   "metadata": {},
   "outputs": [],
   "source": [
    "transformed_image = thresh_otsu(gaussian_blur(images[0]))[1]"
   ]
  },
  {
   "cell_type": "code",
   "execution_count": null,
   "id": "aeddb2e4",
   "metadata": {},
   "outputs": [],
   "source": [
    "contours, hierarchy = findContours(transformed_image)"
   ]
  },
  {
   "cell_type": "code",
   "execution_count": null,
   "id": "7ff7adce",
   "metadata": {},
   "outputs": [],
   "source": [
    "plt.imshow(drawContours(thresh_otsu(gaussian_blur(crop.square_resize(images[0])))[1], contours, 0))"
   ]
  }
 ],
 "metadata": {
  "kernelspec": {
   "display_name": "Python 3 (ipykernel)",
   "language": "python",
   "name": "python3"
  },
  "language_info": {
   "codemirror_mode": {
    "name": "ipython",
    "version": 3
   },
   "file_extension": ".py",
   "mimetype": "text/x-python",
   "name": "python",
   "nbconvert_exporter": "python",
   "pygments_lexer": "ipython3",
   "version": "3.9.13"
  }
 },
 "nbformat": 4,
 "nbformat_minor": 5
}
